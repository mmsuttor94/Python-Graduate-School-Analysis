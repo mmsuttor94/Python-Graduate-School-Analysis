{
  "cells": [
    {
      "cell_type": "markdown",
      "metadata": {
        "id": "view-in-github",
        "colab_type": "text"
      },
      "source": [
        "<a href=\"https://colab.research.google.com/github/mmsuttor94/Python-Graduate-School-Analysis/blob/main/Capstone_3.ipynb\" target=\"_parent\"><img src=\"https://colab.research.google.com/assets/colab-badge.svg\" alt=\"Open In Colab\"/></a>"
      ]
    },
    {
      "cell_type": "markdown",
      "metadata": {
        "id": "xW4uXi6eHfBr"
      },
      "source": [
        "# **Introduction**"
      ]
    },
    {
      "cell_type": "markdown",
      "source": [
        "This dataset describes a prospective graduate student's chances of admission based on GRE Score, TOEFL Score, University Rating, Statement of Purpose (SOP), Letter of Recommendation (LOR), Current GPA (CGPA), & whether a candidate has research experience. This analysis should offer students further insight into effective preparation for graduate school."
      ],
      "metadata": {
        "id": "H0tec0HEIa4J"
      }
    },
    {
      "cell_type": "code",
      "execution_count": null,
      "metadata": {
        "colab": {
          "base_uri": "https://localhost:8080/"
        },
        "id": "W6n_gO0nqrPf",
        "outputId": "cb0c696b-e855-4c3b-f5ef-fbfa9c606c9f"
      },
      "outputs": [
        {
          "name": "stdout",
          "output_type": "stream",
          "text": [
            "Mounted at /content/gdrive\n"
          ]
        }
      ],
      "source": [
        "# Mount Google Drive\n",
        "\n",
        "from google.colab import drive\n",
        "drive.mount('/content/gdrive')"
      ]
    },
    {
      "cell_type": "code",
      "execution_count": null,
      "metadata": {
        "id": "SXa7VQlicviu"
      },
      "outputs": [],
      "source": [
        "import pandas as pd\n",
        "import numpy as np\n",
        "from scipy import stats\n",
        "import seaborn as sns\n",
        "import matplotlib.pyplot as plt"
      ]
    },
    {
      "cell_type": "markdown",
      "metadata": {
        "id": "xRNp_8FKFbTe"
      },
      "source": [
        "Graduate Admission Dataset Link:\n",
        "\n",
        "https://www.kaggle.com/datasets/mohansacharya/graduate-admissions"
      ]
    },
    {
      "cell_type": "code",
      "execution_count": null,
      "metadata": {
        "id": "6FvaQq7OcI2O"
      },
      "outputs": [],
      "source": [
        "school_df = pd.read_csv('/content/gdrive/My Drive/Colab Datasets/Graduate School.csv')"
      ]
    },
    {
      "cell_type": "markdown",
      "metadata": {
        "id": "PpmZa5eyIYgz"
      },
      "source": [
        "## Introduction Summary:\n",
        "1. Mounted Google Drive\n",
        "2. Imported necessary libraries\n",
        "3. Included link to data"
      ]
    },
    {
      "cell_type": "markdown",
      "metadata": {
        "id": "W8cNZ1PcI6-9"
      },
      "source": [
        "# **Data Cleaning**"
      ]
    },
    {
      "cell_type": "code",
      "execution_count": null,
      "metadata": {
        "colab": {
          "base_uri": "https://localhost:8080/",
          "height": 206
        },
        "id": "SIyiRYrdIyAA",
        "outputId": "363d1898-fa4b-4a17-890f-2f9f257dabbe"
      },
      "outputs": [
        {
          "data": {
            "text/html": [
              "\n",
              "  <div id=\"df-a9d1c719-4777-40f3-bac9-1e264ae50013\">\n",
              "    <div class=\"colab-df-container\">\n",
              "      <div>\n",
              "<style scoped>\n",
              "    .dataframe tbody tr th:only-of-type {\n",
              "        vertical-align: middle;\n",
              "    }\n",
              "\n",
              "    .dataframe tbody tr th {\n",
              "        vertical-align: top;\n",
              "    }\n",
              "\n",
              "    .dataframe thead th {\n",
              "        text-align: right;\n",
              "    }\n",
              "</style>\n",
              "<table border=\"1\" class=\"dataframe\">\n",
              "  <thead>\n",
              "    <tr style=\"text-align: right;\">\n",
              "      <th></th>\n",
              "      <th>Serial No.</th>\n",
              "      <th>GRE Score</th>\n",
              "      <th>TOEFL Score</th>\n",
              "      <th>University Rating</th>\n",
              "      <th>SOP</th>\n",
              "      <th>LOR</th>\n",
              "      <th>CGPA</th>\n",
              "      <th>Research</th>\n",
              "      <th>Chance of Admit</th>\n",
              "    </tr>\n",
              "  </thead>\n",
              "  <tbody>\n",
              "    <tr>\n",
              "      <th>0</th>\n",
              "      <td>1</td>\n",
              "      <td>337</td>\n",
              "      <td>118</td>\n",
              "      <td>4</td>\n",
              "      <td>4.5</td>\n",
              "      <td>4.5</td>\n",
              "      <td>9.65</td>\n",
              "      <td>1</td>\n",
              "      <td>0.92</td>\n",
              "    </tr>\n",
              "    <tr>\n",
              "      <th>1</th>\n",
              "      <td>2</td>\n",
              "      <td>324</td>\n",
              "      <td>107</td>\n",
              "      <td>4</td>\n",
              "      <td>4.0</td>\n",
              "      <td>4.5</td>\n",
              "      <td>8.87</td>\n",
              "      <td>1</td>\n",
              "      <td>0.76</td>\n",
              "    </tr>\n",
              "    <tr>\n",
              "      <th>2</th>\n",
              "      <td>3</td>\n",
              "      <td>316</td>\n",
              "      <td>104</td>\n",
              "      <td>3</td>\n",
              "      <td>3.0</td>\n",
              "      <td>3.5</td>\n",
              "      <td>8.00</td>\n",
              "      <td>1</td>\n",
              "      <td>0.72</td>\n",
              "    </tr>\n",
              "    <tr>\n",
              "      <th>3</th>\n",
              "      <td>4</td>\n",
              "      <td>322</td>\n",
              "      <td>110</td>\n",
              "      <td>3</td>\n",
              "      <td>3.5</td>\n",
              "      <td>2.5</td>\n",
              "      <td>8.67</td>\n",
              "      <td>1</td>\n",
              "      <td>0.80</td>\n",
              "    </tr>\n",
              "    <tr>\n",
              "      <th>4</th>\n",
              "      <td>5</td>\n",
              "      <td>314</td>\n",
              "      <td>103</td>\n",
              "      <td>2</td>\n",
              "      <td>2.0</td>\n",
              "      <td>3.0</td>\n",
              "      <td>8.21</td>\n",
              "      <td>0</td>\n",
              "      <td>0.65</td>\n",
              "    </tr>\n",
              "  </tbody>\n",
              "</table>\n",
              "</div>\n",
              "      <button class=\"colab-df-convert\" onclick=\"convertToInteractive('df-a9d1c719-4777-40f3-bac9-1e264ae50013')\"\n",
              "              title=\"Convert this dataframe to an interactive table.\"\n",
              "              style=\"display:none;\">\n",
              "        \n",
              "  <svg xmlns=\"http://www.w3.org/2000/svg\" height=\"24px\"viewBox=\"0 0 24 24\"\n",
              "       width=\"24px\">\n",
              "    <path d=\"M0 0h24v24H0V0z\" fill=\"none\"/>\n",
              "    <path d=\"M18.56 5.44l.94 2.06.94-2.06 2.06-.94-2.06-.94-.94-2.06-.94 2.06-2.06.94zm-11 1L8.5 8.5l.94-2.06 2.06-.94-2.06-.94L8.5 2.5l-.94 2.06-2.06.94zm10 10l.94 2.06.94-2.06 2.06-.94-2.06-.94-.94-2.06-.94 2.06-2.06.94z\"/><path d=\"M17.41 7.96l-1.37-1.37c-.4-.4-.92-.59-1.43-.59-.52 0-1.04.2-1.43.59L10.3 9.45l-7.72 7.72c-.78.78-.78 2.05 0 2.83L4 21.41c.39.39.9.59 1.41.59.51 0 1.02-.2 1.41-.59l7.78-7.78 2.81-2.81c.8-.78.8-2.07 0-2.86zM5.41 20L4 18.59l7.72-7.72 1.47 1.35L5.41 20z\"/>\n",
              "  </svg>\n",
              "      </button>\n",
              "      \n",
              "  <style>\n",
              "    .colab-df-container {\n",
              "      display:flex;\n",
              "      flex-wrap:wrap;\n",
              "      gap: 12px;\n",
              "    }\n",
              "\n",
              "    .colab-df-convert {\n",
              "      background-color: #E8F0FE;\n",
              "      border: none;\n",
              "      border-radius: 50%;\n",
              "      cursor: pointer;\n",
              "      display: none;\n",
              "      fill: #1967D2;\n",
              "      height: 32px;\n",
              "      padding: 0 0 0 0;\n",
              "      width: 32px;\n",
              "    }\n",
              "\n",
              "    .colab-df-convert:hover {\n",
              "      background-color: #E2EBFA;\n",
              "      box-shadow: 0px 1px 2px rgba(60, 64, 67, 0.3), 0px 1px 3px 1px rgba(60, 64, 67, 0.15);\n",
              "      fill: #174EA6;\n",
              "    }\n",
              "\n",
              "    [theme=dark] .colab-df-convert {\n",
              "      background-color: #3B4455;\n",
              "      fill: #D2E3FC;\n",
              "    }\n",
              "\n",
              "    [theme=dark] .colab-df-convert:hover {\n",
              "      background-color: #434B5C;\n",
              "      box-shadow: 0px 1px 3px 1px rgba(0, 0, 0, 0.15);\n",
              "      filter: drop-shadow(0px 1px 2px rgba(0, 0, 0, 0.3));\n",
              "      fill: #FFFFFF;\n",
              "    }\n",
              "  </style>\n",
              "\n",
              "      <script>\n",
              "        const buttonEl =\n",
              "          document.querySelector('#df-a9d1c719-4777-40f3-bac9-1e264ae50013 button.colab-df-convert');\n",
              "        buttonEl.style.display =\n",
              "          google.colab.kernel.accessAllowed ? 'block' : 'none';\n",
              "\n",
              "        async function convertToInteractive(key) {\n",
              "          const element = document.querySelector('#df-a9d1c719-4777-40f3-bac9-1e264ae50013');\n",
              "          const dataTable =\n",
              "            await google.colab.kernel.invokeFunction('convertToInteractive',\n",
              "                                                     [key], {});\n",
              "          if (!dataTable) return;\n",
              "\n",
              "          const docLinkHtml = 'Like what you see? Visit the ' +\n",
              "            '<a target=\"_blank\" href=https://colab.research.google.com/notebooks/data_table.ipynb>data table notebook</a>'\n",
              "            + ' to learn more about interactive tables.';\n",
              "          element.innerHTML = '';\n",
              "          dataTable['output_type'] = 'display_data';\n",
              "          await google.colab.output.renderOutput(dataTable, element);\n",
              "          const docLink = document.createElement('div');\n",
              "          docLink.innerHTML = docLinkHtml;\n",
              "          element.appendChild(docLink);\n",
              "        }\n",
              "      </script>\n",
              "    </div>\n",
              "  </div>\n",
              "  "
            ],
            "text/plain": [
              "   Serial No.  GRE Score  TOEFL Score  University Rating  SOP  LOR   CGPA  \\\n",
              "0           1        337          118                  4  4.5   4.5  9.65   \n",
              "1           2        324          107                  4  4.0   4.5  8.87   \n",
              "2           3        316          104                  3  3.0   3.5  8.00   \n",
              "3           4        322          110                  3  3.5   2.5  8.67   \n",
              "4           5        314          103                  2  2.0   3.0  8.21   \n",
              "\n",
              "   Research  Chance of Admit   \n",
              "0         1              0.92  \n",
              "1         1              0.76  \n",
              "2         1              0.72  \n",
              "3         1              0.80  \n",
              "4         0              0.65  "
            ]
          },
          "execution_count": 62,
          "metadata": {},
          "output_type": "execute_result"
        }
      ],
      "source": [
        "school_df.head()"
      ]
    },
    {
      "cell_type": "code",
      "execution_count": null,
      "metadata": {
        "colab": {
          "base_uri": "https://localhost:8080/",
          "height": 206
        },
        "id": "WFj-cLyY-JZ9",
        "outputId": "da8b461f-fa16-47e7-c77f-e273c394b0ba"
      },
      "outputs": [
        {
          "data": {
            "text/html": [
              "\n",
              "  <div id=\"df-34608110-f232-4b77-a7f6-32d50a6c2914\">\n",
              "    <div class=\"colab-df-container\">\n",
              "      <div>\n",
              "<style scoped>\n",
              "    .dataframe tbody tr th:only-of-type {\n",
              "        vertical-align: middle;\n",
              "    }\n",
              "\n",
              "    .dataframe tbody tr th {\n",
              "        vertical-align: top;\n",
              "    }\n",
              "\n",
              "    .dataframe thead th {\n",
              "        text-align: right;\n",
              "    }\n",
              "</style>\n",
              "<table border=\"1\" class=\"dataframe\">\n",
              "  <thead>\n",
              "    <tr style=\"text-align: right;\">\n",
              "      <th></th>\n",
              "      <th>GRE Score</th>\n",
              "      <th>TOEFL Score</th>\n",
              "      <th>University Rating</th>\n",
              "      <th>SOP</th>\n",
              "      <th>LOR</th>\n",
              "      <th>CGPA</th>\n",
              "      <th>Chance of Admit</th>\n",
              "    </tr>\n",
              "  </thead>\n",
              "  <tbody>\n",
              "    <tr>\n",
              "      <th>0</th>\n",
              "      <td>337</td>\n",
              "      <td>118</td>\n",
              "      <td>4</td>\n",
              "      <td>4.5</td>\n",
              "      <td>4.5</td>\n",
              "      <td>9.65</td>\n",
              "      <td>0.92</td>\n",
              "    </tr>\n",
              "    <tr>\n",
              "      <th>1</th>\n",
              "      <td>324</td>\n",
              "      <td>107</td>\n",
              "      <td>4</td>\n",
              "      <td>4.0</td>\n",
              "      <td>4.5</td>\n",
              "      <td>8.87</td>\n",
              "      <td>0.76</td>\n",
              "    </tr>\n",
              "    <tr>\n",
              "      <th>2</th>\n",
              "      <td>316</td>\n",
              "      <td>104</td>\n",
              "      <td>3</td>\n",
              "      <td>3.0</td>\n",
              "      <td>3.5</td>\n",
              "      <td>8.00</td>\n",
              "      <td>0.72</td>\n",
              "    </tr>\n",
              "    <tr>\n",
              "      <th>3</th>\n",
              "      <td>322</td>\n",
              "      <td>110</td>\n",
              "      <td>3</td>\n",
              "      <td>3.5</td>\n",
              "      <td>2.5</td>\n",
              "      <td>8.67</td>\n",
              "      <td>0.80</td>\n",
              "    </tr>\n",
              "    <tr>\n",
              "      <th>4</th>\n",
              "      <td>314</td>\n",
              "      <td>103</td>\n",
              "      <td>2</td>\n",
              "      <td>2.0</td>\n",
              "      <td>3.0</td>\n",
              "      <td>8.21</td>\n",
              "      <td>0.65</td>\n",
              "    </tr>\n",
              "  </tbody>\n",
              "</table>\n",
              "</div>\n",
              "      <button class=\"colab-df-convert\" onclick=\"convertToInteractive('df-34608110-f232-4b77-a7f6-32d50a6c2914')\"\n",
              "              title=\"Convert this dataframe to an interactive table.\"\n",
              "              style=\"display:none;\">\n",
              "        \n",
              "  <svg xmlns=\"http://www.w3.org/2000/svg\" height=\"24px\"viewBox=\"0 0 24 24\"\n",
              "       width=\"24px\">\n",
              "    <path d=\"M0 0h24v24H0V0z\" fill=\"none\"/>\n",
              "    <path d=\"M18.56 5.44l.94 2.06.94-2.06 2.06-.94-2.06-.94-.94-2.06-.94 2.06-2.06.94zm-11 1L8.5 8.5l.94-2.06 2.06-.94-2.06-.94L8.5 2.5l-.94 2.06-2.06.94zm10 10l.94 2.06.94-2.06 2.06-.94-2.06-.94-.94-2.06-.94 2.06-2.06.94z\"/><path d=\"M17.41 7.96l-1.37-1.37c-.4-.4-.92-.59-1.43-.59-.52 0-1.04.2-1.43.59L10.3 9.45l-7.72 7.72c-.78.78-.78 2.05 0 2.83L4 21.41c.39.39.9.59 1.41.59.51 0 1.02-.2 1.41-.59l7.78-7.78 2.81-2.81c.8-.78.8-2.07 0-2.86zM5.41 20L4 18.59l7.72-7.72 1.47 1.35L5.41 20z\"/>\n",
              "  </svg>\n",
              "      </button>\n",
              "      \n",
              "  <style>\n",
              "    .colab-df-container {\n",
              "      display:flex;\n",
              "      flex-wrap:wrap;\n",
              "      gap: 12px;\n",
              "    }\n",
              "\n",
              "    .colab-df-convert {\n",
              "      background-color: #E8F0FE;\n",
              "      border: none;\n",
              "      border-radius: 50%;\n",
              "      cursor: pointer;\n",
              "      display: none;\n",
              "      fill: #1967D2;\n",
              "      height: 32px;\n",
              "      padding: 0 0 0 0;\n",
              "      width: 32px;\n",
              "    }\n",
              "\n",
              "    .colab-df-convert:hover {\n",
              "      background-color: #E2EBFA;\n",
              "      box-shadow: 0px 1px 2px rgba(60, 64, 67, 0.3), 0px 1px 3px 1px rgba(60, 64, 67, 0.15);\n",
              "      fill: #174EA6;\n",
              "    }\n",
              "\n",
              "    [theme=dark] .colab-df-convert {\n",
              "      background-color: #3B4455;\n",
              "      fill: #D2E3FC;\n",
              "    }\n",
              "\n",
              "    [theme=dark] .colab-df-convert:hover {\n",
              "      background-color: #434B5C;\n",
              "      box-shadow: 0px 1px 3px 1px rgba(0, 0, 0, 0.15);\n",
              "      filter: drop-shadow(0px 1px 2px rgba(0, 0, 0, 0.3));\n",
              "      fill: #FFFFFF;\n",
              "    }\n",
              "  </style>\n",
              "\n",
              "      <script>\n",
              "        const buttonEl =\n",
              "          document.querySelector('#df-34608110-f232-4b77-a7f6-32d50a6c2914 button.colab-df-convert');\n",
              "        buttonEl.style.display =\n",
              "          google.colab.kernel.accessAllowed ? 'block' : 'none';\n",
              "\n",
              "        async function convertToInteractive(key) {\n",
              "          const element = document.querySelector('#df-34608110-f232-4b77-a7f6-32d50a6c2914');\n",
              "          const dataTable =\n",
              "            await google.colab.kernel.invokeFunction('convertToInteractive',\n",
              "                                                     [key], {});\n",
              "          if (!dataTable) return;\n",
              "\n",
              "          const docLinkHtml = 'Like what you see? Visit the ' +\n",
              "            '<a target=\"_blank\" href=https://colab.research.google.com/notebooks/data_table.ipynb>data table notebook</a>'\n",
              "            + ' to learn more about interactive tables.';\n",
              "          element.innerHTML = '';\n",
              "          dataTable['output_type'] = 'display_data';\n",
              "          await google.colab.output.renderOutput(dataTable, element);\n",
              "          const docLink = document.createElement('div');\n",
              "          docLink.innerHTML = docLinkHtml;\n",
              "          element.appendChild(docLink);\n",
              "        }\n",
              "      </script>\n",
              "    </div>\n",
              "  </div>\n",
              "  "
            ],
            "text/plain": [
              "   GRE Score  TOEFL Score  University Rating  SOP  LOR   CGPA  \\\n",
              "0        337          118                  4  4.5   4.5  9.65   \n",
              "1        324          107                  4  4.0   4.5  8.87   \n",
              "2        316          104                  3  3.0   3.5  8.00   \n",
              "3        322          110                  3  3.5   2.5  8.67   \n",
              "4        314          103                  2  2.0   3.0  8.21   \n",
              "\n",
              "   Chance of Admit   \n",
              "0              0.92  \n",
              "1              0.76  \n",
              "2              0.72  \n",
              "3              0.80  \n",
              "4              0.65  "
            ]
          },
          "execution_count": 63,
          "metadata": {},
          "output_type": "execute_result"
        }
      ],
      "source": [
        "school_df.drop(school_df.columns[[0, 7]], axis=1).head()"
      ]
    },
    {
      "cell_type": "code",
      "execution_count": null,
      "metadata": {
        "colab": {
          "base_uri": "https://localhost:8080/"
        },
        "id": "EDtqelxRnxTe",
        "outputId": "d2600a2d-f5de-4d4f-8172-4ef885aa7823"
      },
      "outputs": [
        {
          "name": "stdout",
          "output_type": "stream",
          "text": [
            "<class 'pandas.core.frame.DataFrame'>\n",
            "RangeIndex: 400 entries, 0 to 399\n",
            "Data columns (total 9 columns):\n",
            " #   Column             Non-Null Count  Dtype  \n",
            "---  ------             --------------  -----  \n",
            " 0   Serial No.         400 non-null    int64  \n",
            " 1   GRE Score          400 non-null    int64  \n",
            " 2   TOEFL Score        400 non-null    int64  \n",
            " 3   University Rating  400 non-null    int64  \n",
            " 4   SOP                400 non-null    float64\n",
            " 5   LOR                400 non-null    float64\n",
            " 6   CGPA               400 non-null    float64\n",
            " 7   Research           400 non-null    int64  \n",
            " 8   Chance of Admit    400 non-null    float64\n",
            "dtypes: float64(4), int64(5)\n",
            "memory usage: 28.2 KB\n"
          ]
        }
      ],
      "source": [
        "school_df.info()"
      ]
    },
    {
      "cell_type": "code",
      "execution_count": null,
      "metadata": {
        "colab": {
          "base_uri": "https://localhost:8080/"
        },
        "id": "TrBz_4RColjY",
        "outputId": "7280457f-9e94-47c7-d831-8c343b93cce1"
      },
      "outputs": [
        {
          "name": "stdout",
          "output_type": "stream",
          "text": [
            "3600\n"
          ]
        }
      ],
      "source": [
        "print (school_df.size)"
      ]
    },
    {
      "cell_type": "markdown",
      "metadata": {
        "id": "nCMMtUSuKVXQ"
      },
      "source": [
        "## Data Cleaning Summary:\n",
        "\n",
        "1. .head() - provided a short summary of the data\n",
        "2. .drop - allowed me to drop irrelevant columns in the dataset, providing a clean overview\n",
        "3. .info() - provided column names, count of non-null values and data types\n",
        "4. .size - also confirms there are no null values in the data set\n",
        " "
      ]
    },
    {
      "cell_type": "markdown",
      "metadata": {
        "id": "AJHTb88DKQP7"
      },
      "source": [
        "# **Histograms**"
      ]
    },
    {
      "cell_type": "markdown",
      "source": [
        "The following histograms confirm a normal distribution in relevant dataset factors."
      ],
      "metadata": {
        "id": "F8tNtQc9I-P3"
      }
    },
    {
      "cell_type": "code",
      "execution_count": null,
      "metadata": {
        "colab": {
          "base_uri": "https://localhost:8080/",
          "height": 295
        },
        "id": "64eKWhDfNxBi",
        "outputId": "98d0ea27-e314-48d5-fbbb-338ee2b7fbe9"
      },
      "outputs": [
        {
          "data": {
            "image/png": "[encoded data removed]",
            "text/plain": [
              "<Figure size 432x288 with 1 Axes>"
            ]
          },
          "metadata": {},
          "output_type": "display_data"
        }
      ],
      "source": [
        "ax=sns.histplot(school_df['GRE Score'], kde=True).set(title='GRE Score Distribution')"
      ]
    },
    {
      "cell_type": "code",
      "execution_count": null,
      "metadata": {
        "colab": {
          "base_uri": "https://localhost:8080/",
          "height": 295
        },
        "id": "DkMY8-TANyO8",
        "outputId": "9e7427f5-b7c5-4d61-cd6b-4e7b1c1936bb"
      },
      "outputs": [
        {
          "data": {
            "image/png": "[encoded data removed]",
            "text/plain": [
              "<Figure size 432x288 with 1 Axes>"
            ]
          },
          "metadata": {},
          "output_type": "display_data"
        }
      ],
      "source": [
        "ax=sns.histplot(school_df['TOEFL Score'], kde=True).set(title='TOEFL Score Distribution')"
      ]
    },
    {
      "cell_type": "code",
      "execution_count": null,
      "metadata": {
        "colab": {
          "base_uri": "https://localhost:8080/",
          "height": 295
        },
        "id": "PDMP-WclN9cq",
        "outputId": "328ca00d-4c23-46cc-f4e3-5ac6f18be31d"
      },
      "outputs": [
        {
          "data": {
            "image/png": "[encoded data removed]",
            "text/plain": [
              "<Figure size 432x288 with 1 Axes>"
            ]
          },
          "metadata": {},
          "output_type": "display_data"
        }
      ],
      "source": [
        "ax=sns.histplot(school_df['University Rating'], discrete=True, kde=True).set(title='University Rating Distribution')"
      ]
    },
    {
      "cell_type": "code",
      "execution_count": null,
      "metadata": {
        "colab": {
          "base_uri": "https://localhost:8080/",
          "height": 295
        },
        "id": "7Xpks8oxI_71",
        "outputId": "23ea3329-eb54-4318-a6e7-d052c61c60be"
      },
      "outputs": [
        {
          "data": {
            "image/png": "[encoded data removed]",
            "text/plain": [
              "<Figure size 432x288 with 1 Axes>"
            ]
          },
          "metadata": {},
          "output_type": "display_data"
        }
      ],
      "source": [
        "ax=sns.histplot(school_df['SOP'], bins=8, kde=True).set(title='Statement of Purpose Distribution')"
      ]
    },
    {
      "cell_type": "code",
      "execution_count": null,
      "metadata": {
        "colab": {
          "base_uri": "https://localhost:8080/",
          "height": 295
        },
        "id": "eMyLe6O5Nbje",
        "outputId": "5218ad0d-c4aa-42be-c807-e62587977ea9"
      },
      "outputs": [
        {
          "data": {
            "image/png": "[encoded data removed]",
            "text/plain": [
              "<Figure size 432x288 with 1 Axes>"
            ]
          },
          "metadata": {},
          "output_type": "display_data"
        }
      ],
      "source": [
        "ax=sns.histplot(school_df['LOR '], bins=8, kde=True).set(title='Letter of Recommendation Distribution')"
      ]
    },
    {
      "cell_type": "code",
      "execution_count": null,
      "metadata": {
        "colab": {
          "base_uri": "https://localhost:8080/",
          "height": 295
        },
        "id": "tViG0iCOe4tM",
        "outputId": "e54ea945-823b-4943-f01f-26c7c82af0af"
      },
      "outputs": [
        {
          "data": {
            "image/png": "[encoded data removed]",
            "text/plain": [
              "<Figure size 432x288 with 1 Axes>"
            ]
          },
          "metadata": {},
          "output_type": "display_data"
        }
      ],
      "source": [
        "ax=sns.histplot(school_df['CGPA'], kde=True).set(title = 'Current GPA Distribution')"
      ]
    },
    {
      "cell_type": "markdown",
      "metadata": {
        "id": "4GNGA0lYwtVK"
      },
      "source": [
        "## Histogram Summary\n",
        "1. All variables are normally distributed and can be used effectively in statistical analysis\n",
        "2. sns.histplot: generates a histogram\n",
        "3. kde = True: determines whether there is a bell curve line on the graph showing the distribution of values in the data set\n",
        "4. bins = int: sets a predetermined number of bins on the x-axis\n",
        "5. .set: adds a title to the graph"
      ]
    },
    {
      "cell_type": "markdown",
      "metadata": {
        "id": "muNkazkSwcKn"
      },
      "source": [
        "# **Hypothesis Testing & Analysis**\n",
        "\n",
        "**P value interpretation:**\n",
        "\n",
        "A p value of <0.05 causes us to reject the null hypothesis, and a p value >0.05 causes us to accept the null hypothesis."
      ]
    },
    {
      "cell_type": "markdown",
      "metadata": {
        "id": "s6n_KpDwDt13"
      },
      "source": [
        "**R value interpretation:**\n",
        "\n",
        "+1 - perfect positive association\n",
        "\n",
        "+0.8 - 1 : very strong positive association\n",
        "\n",
        "+0.6 - 0.8 : strong positive association\n",
        "\n",
        "+0.4 - 0.6 : moderate positive association\n",
        "\n",
        "+0.2 to 0.4 : weak positive association\n",
        "\n",
        "0 - 0.2 : very weak positive or no association\n",
        "\n",
        "*measures the linear relationship between two data points\n",
        "\n",
        "*positive and negative correlations mean the same thing except they are inverse\n"
      ]
    },
    {
      "cell_type": "markdown",
      "metadata": {
        "id": "jo7mfvrjR8qU"
      },
      "source": [
        "**Equations**\n",
        "\n",
        "1. .pearsonr() - returns a r and p value that determines correlation\n",
        "2. .round() - rounds a value to the specified number of digits\n",
        "3. .sort() - sorts a list of numbers from lowest to highest\n",
        "4. sns.regplot() - plots data and a best fit"
      ]
    },
    {
      "cell_type": "markdown",
      "metadata": {
        "id": "-sK-NQatrTj2"
      },
      "source": [
        "### **Hypothesis 1**:\n",
        "\n",
        "The following pearsonr tests will determine which factors most significantly contribute to GRE & TOEFL Scores.\n",
        "\n",
        "$H_0$ = There will be no dataset factors that strongly contribute to GRE & TOEFL scores. \n",
        "\n",
        "$H_a$= At least one dataset factor will be a statistically significant predictor of GRE & TOEFL scores."
      ]
    },
    {
      "cell_type": "markdown",
      "metadata": {
        "id": "biPgJuuK3VH5"
      },
      "source": [
        "### GRE Score Analysis"
      ]
    },
    {
      "cell_type": "code",
      "execution_count": null,
      "metadata": {
        "colab": {
          "base_uri": "https://localhost:8080/"
        },
        "id": "5tS4Cin7otO3",
        "outputId": "79e014a1-4be3-4aa0-ba47-df06d009c632"
      },
      "outputs": [
        {
          "name": "stdout",
          "output_type": "stream",
          "text": [
            "0.669 3.123350546126204e-53\n"
          ]
        }
      ],
      "source": [
        "r1, p1 = stats.pearsonr(school_df['GRE Score'], school_df['University Rating'])\n",
        "r1 = round(r1,3)\n",
        "print(r1,p1)"
      ]
    },
    {
      "cell_type": "code",
      "execution_count": null,
      "metadata": {
        "colab": {
          "base_uri": "https://localhost:8080/"
        },
        "id": "9npJHaJKoOZ6",
        "outputId": "f917f9e9-7686-4c2d-dcf0-81e1a1c465f9"
      },
      "outputs": [
        {
          "name": "stdout",
          "output_type": "stream",
          "text": [
            "0.613 1.3032879505842152e-42\n"
          ]
        }
      ],
      "source": [
        "r2, p2 = stats.pearsonr(school_df['GRE Score'], school_df['SOP'])\n",
        "r2 = round(r2,3)\n",
        "print(r2,p2)"
      ]
    },
    {
      "cell_type": "code",
      "execution_count": null,
      "metadata": {
        "colab": {
          "base_uri": "https://localhost:8080/"
        },
        "id": "Aq1xF0PhmvT8",
        "outputId": "d5fcf05b-331b-493c-a83c-e769332c37d6"
      },
      "outputs": [
        {
          "name": "stdout",
          "output_type": "stream",
          "text": [
            "0.558 4.735482888094085e-34\n"
          ]
        }
      ],
      "source": [
        "r3, p3 = stats.pearsonr(school_df['GRE Score'], school_df['LOR '])\n",
        "r3 = round(r3,3)\n",
        "print(r3,p3)"
      ]
    },
    {
      "cell_type": "code",
      "execution_count": null,
      "metadata": {
        "colab": {
          "base_uri": "https://localhost:8080/"
        },
        "id": "1U6RFuDBc-lR",
        "outputId": "dd33f258-d7cc-4989-8405-d58c0f96cfcd"
      },
      "outputs": [
        {
          "name": "stdout",
          "output_type": "stream",
          "text": [
            "0.833 2.1980596629508104e-104\n"
          ]
        }
      ],
      "source": [
        "r4, p4 = stats.pearsonr(school_df['GRE Score'], school_df['CGPA'])\n",
        "r4 = round(r4,3)\n",
        "print(r4,p4)"
      ]
    },
    {
      "cell_type": "code",
      "execution_count": null,
      "metadata": {
        "colab": {
          "base_uri": "https://localhost:8080/"
        },
        "id": "ZZPmuokp70MY",
        "outputId": "7a654826-33ba-4b1a-caf6-edc4431f39bb"
      },
      "outputs": [
        {
          "name": "stdout",
          "output_type": "stream",
          "text": [
            "0.58 2.1687406026995737e-37\n"
          ]
        }
      ],
      "source": [
        "r5, p5 = stats.pearsonr(school_df['GRE Score'], school_df['Research'])\n",
        "r5 = round(r5,3)\n",
        "print(r5,p5)"
      ]
    },
    {
      "cell_type": "markdown",
      "metadata": {
        "id": "-l1FMdPZc4O6"
      },
      "source": [
        "### Sorted r & p values"
      ]
    },
    {
      "cell_type": "code",
      "execution_count": null,
      "metadata": {
        "colab": {
          "base_uri": "https://localhost:8080/"
        },
        "id": "888FsuDmUq9i",
        "outputId": "4a42e93d-47a5-40c1-df24-735c7f43002c"
      },
      "outputs": [
        {
          "name": "stdout",
          "output_type": "stream",
          "text": [
            "[0.558, 0.58, 0.613, 0.669, 0.833]\n"
          ]
        }
      ],
      "source": [
        "rscores1 = [r1, r2, r3, r4, r5]\n",
        "rscores1.sort()\n",
        "print(rscores1)"
      ]
    },
    {
      "cell_type": "code",
      "execution_count": null,
      "metadata": {
        "colab": {
          "base_uri": "https://localhost:8080/"
        },
        "id": "Hxl1g0YRVNJw",
        "outputId": "ed5ddf41-4d12-4921-b2ec-818763e9e939"
      },
      "outputs": [
        {
          "name": "stdout",
          "output_type": "stream",
          "text": [
            "[2.1980596629508104e-104, 3.123350546126204e-53, 1.3032879505842152e-42, 2.1687406026995737e-37, 4.735482888094085e-34]\n"
          ]
        }
      ],
      "source": [
        "pscores1 = [p1, p2, p3, p4, p5]\n",
        "pscores1.sort()\n",
        "print(pscores1)"
      ]
    },
    {
      "cell_type": "markdown",
      "metadata": {
        "id": "sbixiBt7ilqM"
      },
      "source": [
        "### GRE Score Interpretation\n",
        "- All variables that were compared to GRE Score have a p value < 0.05 which tells us that we can reject the null hypothesis. \n",
        "\n",
        "- Based on the pearsonr tests, the two strongest predictors of GRE Score are CGPA & University Rating. We can see this from the r and p value results. \n",
        "\n",
        "- The r values (0.833, 0.669) and p values (2.198E-104, 3.123E-53) obtained from comparing GRE Score with CGPA & University Rating respectively, show a strong positive corrleation that is statistically significant."
      ]
    },
    {
      "cell_type": "markdown",
      "metadata": {
        "id": "ULjS3xS5NUXX"
      },
      "source": [
        "### GRE Score Data Visualization\n",
        "\n",
        "Compares GRE scores with the two most strongly correlated dataset factors."
      ]
    },
    {
      "cell_type": "code",
      "execution_count": null,
      "metadata": {
        "colab": {
          "base_uri": "https://localhost:8080/",
          "height": 296
        },
        "id": "0lpLWfDjGA5i",
        "outputId": "b6151717-3643-4406-b1b2-843a060b2ad0"
      },
      "outputs": [
        {
          "data": {
            "text/plain": [
              "<matplotlib.axes._subplots.AxesSubplot at 0x7f40f9c46cd0>"
            ]
          },
          "execution_count": 79,
          "metadata": {},
          "output_type": "execute_result"
        },
        {
          "data": {
            "image/png": "[encoded data removed]",
            "text/plain": [
              "<Figure size 432x288 with 1 Axes>"
            ]
          },
          "metadata": {},
          "output_type": "display_data"
        }
      ],
      "source": [
        "sns.regplot(x='CGPA', y='GRE Score', data=school_df, line_kws={'color': 'black'})"
      ]
    },
    {
      "cell_type": "markdown",
      "source": [
        "GRE Score increases as CGPA increases."
      ],
      "metadata": {
        "id": "-8SnF_7OJW5h"
      }
    },
    {
      "cell_type": "code",
      "execution_count": null,
      "metadata": {
        "colab": {
          "base_uri": "https://localhost:8080/",
          "height": 296
        },
        "id": "n5YUqrj7GA_l",
        "outputId": "e0e64591-db44-4ac5-e447-df14794e3e05"
      },
      "outputs": [
        {
          "data": {
            "text/plain": [
              "<matplotlib.axes._subplots.AxesSubplot at 0x7f40f9c23610>"
            ]
          },
          "execution_count": 80,
          "metadata": {},
          "output_type": "execute_result"
        },
        {
          "data": {
            "image/png": "[encoded data removed]",
            "text/plain": [
              "<Figure size 432x288 with 1 Axes>"
            ]
          },
          "metadata": {},
          "output_type": "display_data"
        }
      ],
      "source": [
        "sns.regplot(x='University Rating', y='GRE Score', data=school_df, line_kws={'color': 'black'})"
      ]
    },
    {
      "cell_type": "markdown",
      "source": [
        "GRE Score increases as University rating increases."
      ],
      "metadata": {
        "id": "iLtIzgkNJb_d"
      }
    },
    {
      "cell_type": "markdown",
      "metadata": {
        "id": "NBT_juVD3P2_"
      },
      "source": [
        "### TOEFL (Test Of English as a Foreign Language) Score Analysis\n"
      ]
    },
    {
      "cell_type": "code",
      "execution_count": null,
      "metadata": {
        "colab": {
          "base_uri": "https://localhost:8080/"
        },
        "id": "kVidh8VZqOWO",
        "outputId": "9aac03d2-7cbf-473a-b469-8f00dcd47fc4"
      },
      "outputs": [
        {
          "name": "stdout",
          "output_type": "stream",
          "text": [
            "0.696 3.994227770767004e-59\n"
          ]
        }
      ],
      "source": [
        "r1, p1 = stats.pearsonr(school_df['TOEFL Score'], school_df['University Rating'])\n",
        "r1 = round(r1, 3)\n",
        "print(r1,p1)"
      ]
    },
    {
      "cell_type": "code",
      "execution_count": null,
      "metadata": {
        "colab": {
          "base_uri": "https://localhost:8080/"
        },
        "id": "037-QvqWqBEK",
        "outputId": "f66f1723-cb2e-45e4-fba3-59dfaa6302ad"
      },
      "outputs": [
        {
          "name": "stdout",
          "output_type": "stream",
          "text": [
            "0.568 1.6630228307348371e-35\n"
          ]
        }
      ],
      "source": [
        "r2, p2 = stats.pearsonr(school_df['TOEFL Score'], school_df['LOR '])\n",
        "r2 = round(r2, 3)\n",
        "print(r2,p2)"
      ]
    },
    {
      "cell_type": "code",
      "execution_count": null,
      "metadata": {
        "colab": {
          "base_uri": "https://localhost:8080/"
        },
        "id": "9g4StwQRqJHe",
        "outputId": "b421d06d-0f0c-470a-ec13-c7d8df27391e"
      },
      "outputs": [
        {
          "name": "stdout",
          "output_type": "stream",
          "text": [
            "0.658 5.682291093565217e-51\n"
          ]
        }
      ],
      "source": [
        "r3, p3 = stats.pearsonr(school_df['TOEFL Score'], school_df['SOP'])\n",
        "r3 = round(r3, 3)\n",
        "print(r3,p3)"
      ]
    },
    {
      "cell_type": "code",
      "execution_count": null,
      "metadata": {
        "colab": {
          "base_uri": "https://localhost:8080/"
        },
        "id": "p5drVUI5pmou",
        "outputId": "b258ffb0-5e4e-47bf-f9cc-2582b1a868d4"
      },
      "outputs": [
        {
          "name": "stdout",
          "output_type": "stream",
          "text": [
            "0.828 3.1343104338459586e-102\n"
          ]
        }
      ],
      "source": [
        "r4, p4 = stats.pearsonr(school_df['TOEFL Score'], school_df['CGPA'])\n",
        "r4 = round(r4, 3)\n",
        "print(r4,p4)"
      ]
    },
    {
      "cell_type": "code",
      "execution_count": null,
      "metadata": {
        "colab": {
          "base_uri": "https://localhost:8080/"
        },
        "id": "7NY6TLf7zRAS",
        "outputId": "ae4d79d6-bd3c-4dcb-c8ec-3e95f240f088"
      },
      "outputs": [
        {
          "name": "stdout",
          "output_type": "stream",
          "text": [
            "0.49 1.5655039444110798e-25\n"
          ]
        }
      ],
      "source": [
        "r5, p5 = stats.pearsonr(school_df['TOEFL Score'], school_df['Research'])\n",
        "r5 = round(r5, 3)\n",
        "print(r5,p5)"
      ]
    },
    {
      "cell_type": "markdown",
      "metadata": {
        "id": "zwbzB04Uc8Hw"
      },
      "source": [
        "### Sorted r & p values"
      ]
    },
    {
      "cell_type": "code",
      "execution_count": null,
      "metadata": {
        "colab": {
          "base_uri": "https://localhost:8080/"
        },
        "id": "oFBLIk7qaLhG",
        "outputId": "9a35bdf5-89ce-42b7-891a-ef9392596b63"
      },
      "outputs": [
        {
          "name": "stdout",
          "output_type": "stream",
          "text": [
            "[0.49, 0.568, 0.658, 0.696, 0.828]\n"
          ]
        }
      ],
      "source": [
        "rscores2 = [r1, r2, r3, r4, r5]\n",
        "rscores2.sort()\n",
        "print(rscores2)"
      ]
    },
    {
      "cell_type": "code",
      "execution_count": null,
      "metadata": {
        "colab": {
          "base_uri": "https://localhost:8080/"
        },
        "id": "H-2KlGy-aYOS",
        "outputId": "52c63d4c-0e20-4a63-8e5f-282f0ba5fad3"
      },
      "outputs": [
        {
          "name": "stdout",
          "output_type": "stream",
          "text": [
            "[3.1343104338459586e-102, 3.994227770767004e-59, 5.682291093565217e-51, 1.6630228307348371e-35, 1.5655039444110798e-25]\n"
          ]
        }
      ],
      "source": [
        "pscores2 = [p1, p2, p3, p4, p5]\n",
        "pscores2.sort()\n",
        "print(pscores2)"
      ]
    },
    {
      "cell_type": "markdown",
      "metadata": {
        "id": "jPZ6SiD2Srxi"
      },
      "source": [
        "### TOEFL Score Interpretation\n",
        "- All variables that were compared to TOEFL Score have a p value < 0.05 which tells us that we can reject the null hypothesis.\n",
        "\n",
        "- Based on the pearsonr tests, the two strongest predictors of TOEFL Score are CGPA & University Rating. This is shown through the r and p value results. \n",
        "\n",
        "- The r values (0.828, 0.696) and p values (3.134E-102, 3.994E-59) obtained from comparing TOEFL Score with CGPA & University Rating show a strong positive corrleation that is statistically significant."
      ]
    },
    {
      "cell_type": "markdown",
      "metadata": {
        "id": "F5DGDXCqT58i"
      },
      "source": [
        "### TOEFL Score Data Visualization\n",
        "\n",
        "Compares TOEFL scores with the two most strongly correlated dataset factors."
      ]
    },
    {
      "cell_type": "code",
      "execution_count": null,
      "metadata": {
        "colab": {
          "base_uri": "https://localhost:8080/",
          "height": 296
        },
        "id": "LEjfmkZ0GBDU",
        "outputId": "592c6c86-0e5e-4aef-d3a8-1ec612bf595f"
      },
      "outputs": [
        {
          "data": {
            "text/plain": [
              "<matplotlib.axes._subplots.AxesSubplot at 0x7f40f9b485d0>"
            ]
          },
          "execution_count": 88,
          "metadata": {},
          "output_type": "execute_result"
        },
        {
          "data": {
            "image/png": "[encoded data removed]",
            "text/plain": [
              "<Figure size 432x288 with 1 Axes>"
            ]
          },
          "metadata": {},
          "output_type": "display_data"
        }
      ],
      "source": [
        "sns.regplot(x='CGPA', y='TOEFL Score', data=school_df, line_kws={'color': 'black'})"
      ]
    },
    {
      "cell_type": "markdown",
      "source": [
        "TOEFL Score increases as CGPA increases."
      ],
      "metadata": {
        "id": "_mibyiEhJmTb"
      }
    },
    {
      "cell_type": "code",
      "execution_count": null,
      "metadata": {
        "colab": {
          "base_uri": "https://localhost:8080/",
          "height": 296
        },
        "id": "QzH-Kj3WfK3Q",
        "outputId": "0159c8e9-a088-4a42-c5c6-bb12edbdf504"
      },
      "outputs": [
        {
          "data": {
            "text/plain": [
              "<matplotlib.axes._subplots.AxesSubplot at 0x7f40f9aecc50>"
            ]
          },
          "execution_count": 89,
          "metadata": {},
          "output_type": "execute_result"
        },
        {
          "data": {
            "image/png": "[encoded data removed]",
            "text/plain": [
              "<Figure size 432x288 with 1 Axes>"
            ]
          },
          "metadata": {},
          "output_type": "display_data"
        }
      ],
      "source": [
        "sns.regplot(x='University Rating', y='TOEFL Score', data=school_df, line_kws={'color': 'black'})"
      ]
    },
    {
      "cell_type": "markdown",
      "source": [
        "TOEFL Score increases as University Rating increases."
      ],
      "metadata": {
        "id": "wvtIwUfLJpUM"
      }
    },
    {
      "cell_type": "markdown",
      "metadata": {
        "id": "FbvxXYySsrg0"
      },
      "source": [
        "### **Hypothesis 2:**\n",
        "\n",
        "The following pearsonr tests will determine which factors most significantly affect a student's chance for admission. \n",
        "\n",
        "$H_0$ = None of the factors present will significantly contribute to a student’s chance for admission.\n",
        "\n",
        "$H_1$ = At least one of the dataset factors will have a statistically significant affect on a student's chance of admission"
      ]
    },
    {
      "cell_type": "markdown",
      "metadata": {
        "id": "z4Dz9LgdhEZs"
      },
      "source": [
        "### Chance of Admit Analysis"
      ]
    },
    {
      "cell_type": "code",
      "execution_count": null,
      "metadata": {
        "colab": {
          "base_uri": "https://localhost:8080/"
        },
        "id": "fHElZV2jtxo1",
        "outputId": "efddda83-4b8c-4f8b-b6dd-3f48862461ba"
      },
      "outputs": [
        {
          "name": "stdout",
          "output_type": "stream",
          "text": [
            "0.711 6.635019480888702e-63\n"
          ]
        }
      ],
      "source": [
        "r3, p3 = stats.pearsonr(school_df['Chance of Admit '], school_df['University Rating'])\n",
        "r3 = round(r3, 3)\n",
        "print(r3,p3)"
      ]
    },
    {
      "cell_type": "code",
      "execution_count": null,
      "metadata": {
        "colab": {
          "base_uri": "https://localhost:8080/"
        },
        "id": "x8aczUD6s9dE",
        "outputId": "3305ffcd-74ad-47ee-e394-ac492ecca346"
      },
      "outputs": [
        {
          "name": "stdout",
          "output_type": "stream",
          "text": [
            "0.803 2.4581124141787826e-91\n"
          ]
        }
      ],
      "source": [
        "r1, p1 = stats.pearsonr(school_df['Chance of Admit '], school_df['GRE Score'])\n",
        "r1 = round(r1, 3)\n",
        "print(r1,p1)"
      ]
    },
    {
      "cell_type": "code",
      "execution_count": null,
      "metadata": {
        "colab": {
          "background_save": true,
          "base_uri": "https://localhost:8080/"
        },
        "id": "CBbWGqGVtkN9",
        "outputId": "faf3bdb7-66f7-400a-bdd5-081d47ebaaee"
      },
      "outputs": [
        {
          "name": "stdout",
          "output_type": "stream",
          "text": [
            "0.792 3.6341021759970536e-87\n"
          ]
        }
      ],
      "source": [
        "r2, p2 = stats.pearsonr(school_df['Chance of Admit '], school_df['TOEFL Score'])\n",
        "r2 = round(r2, 3)\n",
        "print(r2,p2)"
      ]
    },
    {
      "cell_type": "code",
      "execution_count": null,
      "metadata": {
        "colab": {
          "background_save": true,
          "base_uri": "https://localhost:8080/"
        },
        "id": "Ti53Z4v5t55r",
        "outputId": "de299c58-833f-496d-9fa8-c69c25036e0a"
      },
      "outputs": [
        {
          "name": "stdout",
          "output_type": "stream",
          "text": [
            "0.676 1.1410946671023095e-54\n"
          ]
        }
      ],
      "source": [
        "r4, p4 = stats.pearsonr(school_df['Chance of Admit '], school_df['SOP'])\n",
        "r4 = round(r4, 3)\n",
        "print(r4,p4)"
      ]
    },
    {
      "cell_type": "code",
      "execution_count": null,
      "metadata": {
        "colab": {
          "background_save": true,
          "base_uri": "https://localhost:8080/"
        },
        "id": "Bg0dsIkxuBFN",
        "outputId": "606b6bce-dc1c-4834-f156-f090e103cec1"
      },
      "outputs": [
        {
          "name": "stdout",
          "output_type": "stream",
          "text": [
            "0.67 2.0073145197523104e-53\n"
          ]
        }
      ],
      "source": [
        "r5, p5 = stats.pearsonr(school_df['Chance of Admit '], school_df['LOR '])\n",
        "r5 = round(r5, 3)\n",
        "print(r5,p5)"
      ]
    },
    {
      "cell_type": "code",
      "execution_count": null,
      "metadata": {
        "colab": {
          "background_save": true,
          "base_uri": "https://localhost:8080/"
        },
        "id": "7B0k6Rkru-82",
        "outputId": "0f4134f9-0a28-4889-c2ad-9f541d77bea5"
      },
      "outputs": [
        {
          "name": "stdout",
          "output_type": "stream",
          "text": [
            "0.873 2.3365140004973027e-126\n"
          ]
        }
      ],
      "source": [
        "r6, p6 = stats.pearsonr(school_df['Chance of Admit '], school_df['CGPA'])\n",
        "r6 = round(r6, 3)\n",
        "print(r6,p6)"
      ]
    },
    {
      "cell_type": "code",
      "execution_count": null,
      "metadata": {
        "colab": {
          "background_save": true,
          "base_uri": "https://localhost:8080/"
        },
        "id": "Dj3KOKYuIP4J",
        "outputId": "e90e9bfd-6c13-4eee-cb42-cec07e227501"
      },
      "outputs": [
        {
          "name": "stdout",
          "output_type": "stream",
          "text": [
            "0.553 1.9181733806921424e-33\n"
          ]
        }
      ],
      "source": [
        "r7, p7 = stats.pearsonr(school_df['Chance of Admit '], school_df['Research'])\n",
        "r7 = round(r7, 3)\n",
        "print(r7,p7)"
      ]
    },
    {
      "cell_type": "markdown",
      "metadata": {
        "id": "MvJujIfzcbPJ"
      },
      "source": [
        "### Sorted r & p values"
      ]
    },
    {
      "cell_type": "code",
      "execution_count": null,
      "metadata": {
        "colab": {
          "background_save": true,
          "base_uri": "https://localhost:8080/"
        },
        "id": "KT7d_VWUuWI7",
        "outputId": "822cb63f-d82a-46c5-d883-ca875e632d3b"
      },
      "outputs": [
        {
          "name": "stdout",
          "output_type": "stream",
          "text": [
            "[0.553, 0.67, 0.676, 0.711, 0.792, 0.803, 0.873]\n"
          ]
        }
      ],
      "source": [
        "rscores3 = [r1, r2, r3, r4, r5, r6, r7]\n",
        "rscores3.sort()\n",
        "print(rscores3)"
      ]
    },
    {
      "cell_type": "code",
      "execution_count": null,
      "metadata": {
        "colab": {
          "background_save": true,
          "base_uri": "https://localhost:8080/"
        },
        "id": "PMFj6Xxevad0",
        "outputId": "20314e76-10f4-4f08-a216-d4e3c641efe2"
      },
      "outputs": [
        {
          "name": "stdout",
          "output_type": "stream",
          "text": [
            "[2.3365140004973027e-126, 2.4581124141787826e-91, 3.6341021759970536e-87, 6.635019480888702e-63, 1.1410946671023095e-54, 2.0073145197523104e-53, 1.9181733806921424e-33]\n"
          ]
        }
      ],
      "source": [
        "pscores3 = [p1, p2, p3, p4, p5, p6, p7]\n",
        "pscores3.sort()\n",
        "print(pscores3)"
      ]
    },
    {
      "cell_type": "markdown",
      "metadata": {
        "id": "GNnbATgCV_GS"
      },
      "source": [
        "### Chance of Admit Score Interpretation\n",
        "- All variables that were compared to Chance of Admit have a p value < 0.05 which tells us that we can reject the null hypothesis.\n",
        "\n",
        "- Based on the pearsonr tests, the two strongest predictors of Chance of Admit are CGPA & GRE Score. This is shown through the r and p value results. \n",
        "\n",
        "- The r values (0.873,0.803) and p values (2.337E-126, 2.458E-91) obtained from comparing Chance of Admit with CGPA & GRE Score show a strong positive corrleation."
      ]
    },
    {
      "cell_type": "markdown",
      "metadata": {
        "id": "cTCMtH2nDy2o"
      },
      "source": [
        "### Chance of Admit Data Visualization\n",
        "\n",
        "Compares Chance of Admit scores with the two most strongly correlated dataset factors."
      ]
    },
    {
      "cell_type": "code",
      "execution_count": null,
      "metadata": {
        "colab": {
          "background_save": true,
          "base_uri": "https://localhost:8080/",
          "height": 296
        },
        "id": "JRQDXrceGBGg",
        "outputId": "f6267a51-4d1e-4305-f55d-369fa673b235"
      },
      "outputs": [
        {
          "data": {
            "text/plain": [
              "<matplotlib.axes._subplots.AxesSubplot at 0x7f40f9f50690>"
            ]
          },
          "execution_count": 141,
          "metadata": {},
          "output_type": "execute_result"
        },
        {
          "data": {
            "image/png": "[encoded data removed]",
            "text/plain": [
              "<Figure size 432x288 with 1 Axes>"
            ]
          },
          "metadata": {},
          "output_type": "display_data"
        }
      ],
      "source": [
        "sns.regplot(x='CGPA', y='Chance of Admit ', data=school_df, line_kws={'color': 'black'})"
      ]
    },
    {
      "cell_type": "markdown",
      "source": [
        "Chance of Admit increases as CGPA increases."
      ],
      "metadata": {
        "id": "GNo4lgN4J0y4"
      }
    },
    {
      "cell_type": "code",
      "execution_count": null,
      "metadata": {
        "colab": {
          "background_save": true,
          "base_uri": "https://localhost:8080/",
          "height": 300
        },
        "id": "H6Hwiu0WGBJy",
        "outputId": "9d19314a-4f62-4a0c-98ed-d7f4f623afa6"
      },
      "outputs": [
        {
          "data": {
            "text/plain": [
              "<matplotlib.axes._subplots.AxesSubplot at 0x7f40f9732310>"
            ]
          },
          "execution_count": 142,
          "metadata": {},
          "output_type": "execute_result"
        },
        {
          "data": {
            "image/png": "[encoded data removed]",
            "text/plain": [
              "<Figure size 432x288 with 1 Axes>"
            ]
          },
          "metadata": {},
          "output_type": "display_data"
        }
      ],
      "source": [
        "sns.regplot(x='GRE Score', y='Chance of Admit ', data=school_df, line_kws={'color': 'black'})"
      ]
    },
    {
      "cell_type": "markdown",
      "source": [
        "Chance of Admit increases as GRE Score increases."
      ],
      "metadata": {
        "id": "AC8Z0x9yJ30J"
      }
    },
    {
      "cell_type": "markdown",
      "metadata": {
        "id": "nWe-uobODcau"
      },
      "source": [
        "# **Recomendations**"
      ]
    },
    {
      "cell_type": "markdown",
      "metadata": {
        "id": "edhPnUK_-EHN"
      },
      "source": [
        "### Hypothesis 1:\n",
        "\n",
        "In my first hypothesis, I was looking for factors that significantly affected GRE & TOEFL Scores. After doing a pearsonr test, it was clear that the strongest predictors for GRE Scores were CGPA and University Rating. The strongest predictors for TOEFL Scores were also CGPA & University Rating.\n",
        "\n",
        "This gives some potentially interesting information to students who are taking the GRE & TOEFL examinations. First, CGPA is the best predictor of testing scores. This means that students need to consistently do well throughout their college careers in order to perform well on these examinations. These exams are not the type of test that you can cram for. It requires broad knowledge that is learned through the years.\n",
        "\n",
        "Second, University Rating is also significantly correlated with GRE & TOEFL Scores. This means that where you go to college for your undergraduate degree may influence your eligibility for graduate school. This information is especially relevant for highschool students that are going to college for the first time. If a student has aspirations to go to graduate school, it may be best to go to a university with a higher rating."
      ]
    },
    {
      "cell_type": "markdown",
      "metadata": {
        "id": "tuCmX7j0o0_j"
      },
      "source": [
        "### Hypothesis 2:\n",
        "\n",
        "In my second hypothesis, I was looking for factors that significantly affected a prospective student's chance of admission. After performing a pearsonr test that compared Chance of Admit to the other dataset variables, it was clear that the strongest predictors for Chance of Admit were CGPA and GRE Score. \n",
        "\n",
        "This provides several interesting pieces of information for students. First, Chance of Admit is most strongly correlated with CGPA. This indicates that performing well in undergraduate studies is the most significant factor that predicts admission chances for graduate school. Students who are intending to go to graduate school must focus diligently on their undergraduate studies. \n",
        "\n",
        "GRE Scores are the second most significant factor used to predict Chance of Admit for potential graduate students. This is interesting because for students that must take both the GRE & TOEFL examinations, they may want to focus more strongly on the knowledge required in the GRE examination. This can help to delegate study time more appropriately."
      ]
    },
    {
      "cell_type": "markdown",
      "metadata": {
        "id": "Vtnir8K8o4my"
      },
      "source": [
        "# **CONCLUSION**\n",
        "\n",
        "\n",
        "\n"
      ]
    },
    {
      "cell_type": "markdown",
      "metadata": {
        "id": "Nk1zAEje-KMO"
      },
      "source": [
        "\n",
        "The information in this notebook analyzes the significance of several variables involved in choosing graduate school candidates. Throughout this project, I used the following process to get my results: \n",
        "  1. Cleaned the data. \n",
        "  2. Created histograms to confirm normal distributions of each variable. \n",
        "  3. Created and tested hypotheses using statistical analysis that compared the data and determined r & p values .\n",
        "  4. Interpreted the data.\n",
        "  5. Created data visualizations.\n",
        "  6. Created recommendations.\n",
        "\n",
        "Deteriming the most statistically significant predictors of graduate school admission will give students a chance to adjust where they focus their energy to minimize unnecessary work in an already stressful time.\n"
      ]
    }
  ],
  "metadata": {
    "colab": {
      "collapsed_sections": [],
      "provenance": [],
      "include_colab_link": true
    },
    "kernelspec": {
      "display_name": "Python 3",
      "name": "python3"
    },
    "language_info": {
      "name": "python"
    }
  },
  "nbformat": 4,
  "nbformat_minor": 0
}